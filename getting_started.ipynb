{
  "nbformat": 4,
  "nbformat_minor": 0,
  "metadata": {
    "colab": {
      "provenance": [],
      "authorship_tag": "ABX9TyMLzUZfTUzFogkBfiZoVrAI",
      "include_colab_link": true
    },
    "kernelspec": {
      "name": "python3",
      "display_name": "Python 3"
    },
    "language_info": {
      "name": "python"
    }
  },
  "cells": [
    {
      "cell_type": "markdown",
      "metadata": {
        "id": "view-in-github",
        "colab_type": "text"
      },
      "source": [
        "<a href=\"https://colab.research.google.com/github/JerobenFaith03/Kamilimu-data-science-kickoff/blob/main/getting_started.ipynb\" target=\"_parent\"><img src=\"https://colab.research.google.com/assets/colab-badge.svg\" alt=\"Open In Colab\"/></a>"
      ]
    },
    {
      "cell_type": "code",
      "execution_count": null,
      "metadata": {
        "colab": {
          "base_uri": "https://localhost:8080/"
        },
        "id": "YmmwLpwVBXAb",
        "outputId": "ba8e50d1-50ea-4bf7-86c4-41a9a7294888"
      },
      "outputs": [
        {
          "output_type": "stream",
          "name": "stdout",
          "text": [
            "hello from colab!\n"
          ]
        }
      ],
      "source": [
        "print(\"hello from colab!\")"
      ]
    },
    {
      "cell_type": "code",
      "source": [
        "import pandas as pd"
      ],
      "metadata": {
        "id": "jnLgbX7zB9xm"
      },
      "execution_count": null,
      "outputs": []
    },
    {
      "cell_type": "code",
      "source": [
        "import numpy as np"
      ],
      "metadata": {
        "id": "LEcopSfACNUr"
      },
      "execution_count": null,
      "outputs": []
    },
    {
      "cell_type": "code",
      "source": [
        "fruits = [\"apple\", \"banana\", \"cherry\", \"mango\", \"grapes\", \"orange\"]\n",
        "\n",
        "for fruit in fruits:\n",
        "  print(fruit.title())\n"
      ],
      "metadata": {
        "colab": {
          "base_uri": "https://localhost:8080/"
        },
        "id": "uPwRI4QFCj0x",
        "outputId": "31eea229-704e-488e-937b-d105fbb871f0"
      },
      "execution_count": null,
      "outputs": [
        {
          "output_type": "stream",
          "name": "stdout",
          "text": [
            "Apple\n",
            "Banana\n",
            "Cherry\n",
            "Mango\n",
            "Grapes\n",
            "Orange\n"
          ]
        }
      ]
    },
    {
      "cell_type": "code",
      "source": [
        "def calculate_average_age(people):\n",
        "  total_age = sum(people.values())\n",
        "  average_age = total_age / len(people)\n",
        "  return average_age\n",
        "\n",
        "people = {\n",
        "    \"Jane\": 30,\n",
        "    \"John\": 20,\n",
        "    \"Peter\": 40,\n",
        "    \"Joab\" : 25,\n",
        "    \"Jean\" : 35\n",
        "}\n",
        "\n",
        "average_age = calculate_average_age(people)\n",
        "print(f\"The average age is {average_age}\")\n"
      ],
      "metadata": {
        "colab": {
          "base_uri": "https://localhost:8080/"
        },
        "id": "9u6j7TO8DrEA",
        "outputId": "b2be62d6-02a1-4073-8fe6-3bfa39abce38"
      },
      "execution_count": null,
      "outputs": [
        {
          "output_type": "stream",
          "name": "stdout",
          "text": [
            "The average age is 30.0\n"
          ]
        }
      ]
    },
    {
      "cell_type": "code",
      "source": [
        "!git init"
      ],
      "metadata": {
        "colab": {
          "base_uri": "https://localhost:8080/"
        },
        "id": "srUIfnUJOYY2",
        "outputId": "98d059f4-995f-4fec-e83d-ba0ae89d3674"
      },
      "execution_count": null,
      "outputs": [
        {
          "output_type": "stream",
          "name": "stdout",
          "text": [
            "\u001b[33mhint: Using 'master' as the name for the initial branch. This default branch name\u001b[m\n",
            "\u001b[33mhint: is subject to change. To configure the initial branch name to use in all\u001b[m\n",
            "\u001b[33mhint: of your new repositories, which will suppress this warning, call:\u001b[m\n",
            "\u001b[33mhint: \u001b[m\n",
            "\u001b[33mhint: \tgit config --global init.defaultBranch <name>\u001b[m\n",
            "\u001b[33mhint: \u001b[m\n",
            "\u001b[33mhint: Names commonly chosen instead of 'master' are 'main', 'trunk' and\u001b[m\n",
            "\u001b[33mhint: 'development'. The just-created branch can be renamed via this command:\u001b[m\n",
            "\u001b[33mhint: \u001b[m\n",
            "\u001b[33mhint: \tgit branch -m <name>\u001b[m\n",
            "Initialized empty Git repository in /content/.git/\n"
          ]
        }
      ]
    },
    {
      "cell_type": "code",
      "source": [
        "!git remote add origin https://github.com/JerobenFaith03/https://github.com/JerobenFaith03/Kamilimu-data-science-kickoff.git"
      ],
      "metadata": {
        "id": "iIxlJ1u8O3vm"
      },
      "execution_count": null,
      "outputs": []
    },
    {
      "cell_type": "code",
      "source": [
        "!git add ."
      ],
      "metadata": {
        "colab": {
          "base_uri": "https://localhost:8080/"
        },
        "id": "pj5oYPPXPpGt",
        "outputId": "5ddfec67-4019-4d68-ca23-a6d770103992"
      },
      "execution_count": null,
      "outputs": [
        {
          "output_type": "stream",
          "name": "stdout",
          "text": [
            "error: 'Kamilimu-data-science-kickoff/' does not have a commit checked out\n",
            "fatal: adding files failed\n"
          ]
        }
      ]
    },
    {
      "cell_type": "code",
      "source": [
        "!pip install requests"
      ],
      "metadata": {
        "colab": {
          "base_uri": "https://localhost:8080/"
        },
        "id": "-SxmDkYpPeE9",
        "outputId": "70c7b303-e0f4-496d-d382-eff916fea337"
      },
      "execution_count": 1,
      "outputs": [
        {
          "output_type": "stream",
          "name": "stdout",
          "text": [
            "Requirement already satisfied: requests in /usr/local/lib/python3.11/dist-packages (2.32.3)\n",
            "Requirement already satisfied: charset-normalizer<4,>=2 in /usr/local/lib/python3.11/dist-packages (from requests) (3.4.1)\n",
            "Requirement already satisfied: idna<4,>=2.5 in /usr/local/lib/python3.11/dist-packages (from requests) (3.10)\n",
            "Requirement already satisfied: urllib3<3,>=1.21.1 in /usr/local/lib/python3.11/dist-packages (from requests) (2.4.0)\n",
            "Requirement already satisfied: certifi>=2017.4.17 in /usr/local/lib/python3.11/dist-packages (from requests) (2025.4.26)\n"
          ]
        }
      ]
    },
    {
      "cell_type": "code",
      "source": [
        "!git clone https://github.com/nline/nline-data-api.git\n",
        "%cd nline-data-api\n",
        "!pip install .\n"
      ],
      "metadata": {
        "colab": {
          "base_uri": "https://localhost:8080/"
        },
        "id": "twOBcatcRoQB",
        "outputId": "79c6111c-9dd4-41b0-fae7-c7d6a34eb8a2"
      },
      "execution_count": 2,
      "outputs": [
        {
          "output_type": "stream",
          "name": "stdout",
          "text": [
            "Cloning into 'nline-data-api'...\n",
            "remote: Enumerating objects: 85, done.\u001b[K\n",
            "remote: Counting objects: 100% (85/85), done.\u001b[K\n",
            "remote: Compressing objects: 100% (53/53), done.\u001b[K\n",
            "remote: Total 85 (delta 37), reused 62 (delta 22), pack-reused 0 (from 0)\u001b[K\n",
            "Receiving objects: 100% (85/85), 60.23 KiB | 1.94 MiB/s, done.\n",
            "Resolving deltas: 100% (37/37), done.\n",
            "/content/nline-data-api\n",
            "Processing /content/nline-data-api\n",
            "  Installing build dependencies ... \u001b[?25l\u001b[?25hdone\n",
            "  Getting requirements to build wheel ... \u001b[?25l\u001b[?25hdone\n",
            "  Preparing metadata (pyproject.toml) ... \u001b[?25l\u001b[?25hdone\n",
            "Requirement already satisfied: ipykernel in /usr/local/lib/python3.11/dist-packages (from nline-data-api==0.1.0) (6.17.1)\n",
            "Requirement already satisfied: pandas in /usr/local/lib/python3.11/dist-packages (from nline-data-api==0.1.0) (2.2.2)\n",
            "Requirement already satisfied: polars in /usr/local/lib/python3.11/dist-packages (from nline-data-api==0.1.0) (1.21.0)\n",
            "Requirement already satisfied: pyarrow in /usr/local/lib/python3.11/dist-packages (from nline-data-api==0.1.0) (18.1.0)\n",
            "Requirement already satisfied: requests in /usr/local/lib/python3.11/dist-packages (from nline-data-api==0.1.0) (2.32.3)\n",
            "INFO: pip is looking at multiple versions of nline-data-api to determine which version is compatible with other requirements. This could take a while.\n",
            "\u001b[31mERROR: Package 'nline-data-api' requires a different Python: 3.11.12 not in '>=3.12'\u001b[0m\u001b[31m\n",
            "\u001b[0m"
          ]
        }
      ]
    }
  ]
}