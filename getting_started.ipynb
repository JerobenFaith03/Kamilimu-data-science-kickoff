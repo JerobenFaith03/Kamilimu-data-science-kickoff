{
  "nbformat": 4,
  "nbformat_minor": 0,
  "metadata": {
    "colab": {
      "provenance": []
    },
    "kernelspec": {
      "name": "python3",
      "display_name": "Python 3"
    },
    "language_info": {
      "name": "python"
    }
  },
  "cells": [
    {
      "cell_type": "code",
      "execution_count": null,
      "metadata": {
        "colab": {
          "base_uri": "https://localhost:8080/"
        },
        "id": "YmmwLpwVBXAb",
        "outputId": "ba8e50d1-50ea-4bf7-86c4-41a9a7294888"
      },
      "outputs": [
        {
          "output_type": "stream",
          "name": "stdout",
          "text": [
            "hello from colab!\n"
          ]
        }
      ],
      "source": [
        "print(\"hello from colab!\")"
      ]
    },
    {
      "cell_type": "code",
      "source": [
        "import pandas as pd"
      ],
      "metadata": {
        "id": "jnLgbX7zB9xm"
      },
      "execution_count": null,
      "outputs": []
    },
    {
      "cell_type": "code",
      "source": [
        "import numpy as np"
      ],
      "metadata": {
        "id": "LEcopSfACNUr"
      },
      "execution_count": null,
      "outputs": []
    },
    {
      "cell_type": "code",
      "source": [
        "fruits = [\"apple\", \"banana\", \"cherry\", \"mango\", \"grapes\", \"orange\"]\n",
        "\n",
        "for fruit in fruits:\n",
        "  print(fruit.title())\n"
      ],
      "metadata": {
        "colab": {
          "base_uri": "https://localhost:8080/"
        },
        "id": "uPwRI4QFCj0x",
        "outputId": "31eea229-704e-488e-937b-d105fbb871f0"
      },
      "execution_count": null,
      "outputs": [
        {
          "output_type": "stream",
          "name": "stdout",
          "text": [
            "Apple\n",
            "Banana\n",
            "Cherry\n",
            "Mango\n",
            "Grapes\n",
            "Orange\n"
          ]
        }
      ]
    },
    {
      "cell_type": "code",
      "source": [
        "def calculate_average_age(people):\n",
        "  total_age = sum(people.values())\n",
        "  average_age = total_age / len(people)\n",
        "  return average_age\n",
        "\n",
        "people = {\n",
        "    \"Jane\": 30,\n",
        "    \"John\": 20,\n",
        "    \"Peter\": 40,\n",
        "    \"Joab\" : 25,\n",
        "    \"Jean\" : 35\n",
        "}\n",
        "\n",
        "average_age = calculate_average_age(people)\n",
        "print(f\"The average age is {average_age}\")\n"
      ],
      "metadata": {
        "colab": {
          "base_uri": "https://localhost:8080/"
        },
        "id": "9u6j7TO8DrEA",
        "outputId": "b2be62d6-02a1-4073-8fe6-3bfa39abce38"
      },
      "execution_count": null,
      "outputs": [
        {
          "output_type": "stream",
          "name": "stdout",
          "text": [
            "The average age is 30.0\n"
          ]
        }
      ]
    },
    {
      "cell_type": "code",
      "source": [
        "!git init"
      ],
      "metadata": {
        "colab": {
          "base_uri": "https://localhost:8080/"
        },
        "id": "srUIfnUJOYY2",
        "outputId": "98d059f4-995f-4fec-e83d-ba0ae89d3674"
      },
      "execution_count": 13,
      "outputs": [
        {
          "output_type": "stream",
          "name": "stdout",
          "text": [
            "\u001b[33mhint: Using 'master' as the name for the initial branch. This default branch name\u001b[m\n",
            "\u001b[33mhint: is subject to change. To configure the initial branch name to use in all\u001b[m\n",
            "\u001b[33mhint: of your new repositories, which will suppress this warning, call:\u001b[m\n",
            "\u001b[33mhint: \u001b[m\n",
            "\u001b[33mhint: \tgit config --global init.defaultBranch <name>\u001b[m\n",
            "\u001b[33mhint: \u001b[m\n",
            "\u001b[33mhint: Names commonly chosen instead of 'master' are 'main', 'trunk' and\u001b[m\n",
            "\u001b[33mhint: 'development'. The just-created branch can be renamed via this command:\u001b[m\n",
            "\u001b[33mhint: \u001b[m\n",
            "\u001b[33mhint: \tgit branch -m <name>\u001b[m\n",
            "Initialized empty Git repository in /content/.git/\n"
          ]
        }
      ]
    },
    {
      "cell_type": "code",
      "source": [
        "!git remote add origin https://github.com/JerobenFaith03/https://github.com/JerobenFaith03/Kamilimu-data-science-kickoff.git"
      ],
      "metadata": {
        "id": "iIxlJ1u8O3vm"
      },
      "execution_count": 14,
      "outputs": []
    },
    {
      "cell_type": "code",
      "source": [
        "!git add ."
      ],
      "metadata": {
        "colab": {
          "base_uri": "https://localhost:8080/"
        },
        "id": "pj5oYPPXPpGt",
        "outputId": "5ddfec67-4019-4d68-ca23-a6d770103992"
      },
      "execution_count": 15,
      "outputs": [
        {
          "output_type": "stream",
          "name": "stdout",
          "text": [
            "error: 'Kamilimu-data-science-kickoff/' does not have a commit checked out\n",
            "fatal: adding files failed\n"
          ]
        }
      ]
    }
  ]
}